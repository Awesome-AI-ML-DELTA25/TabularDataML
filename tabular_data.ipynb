{
 "cells": [
  {
   "cell_type": "markdown",
   "id": "f11c994c",
   "metadata": {},
   "source": []
  }
 ],
 "metadata": {
  "language_info": {
   "name": "python"
  }
 },
 "nbformat": 4,
 "nbformat_minor": 5
}
